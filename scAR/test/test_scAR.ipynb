{
 "cells": [
  {
   "cell_type": "markdown",
   "id": "ac5906d1-7f3a-4661-8235-8bca20ec9c45",
   "metadata": {},
   "source": [
    "## integration test"
   ]
  },
  {
   "cell_type": "code",
   "execution_count": 1,
   "id": "aa6514e7-19b3-4b91-9f6f-e2ad125bf9d7",
   "metadata": {},
   "outputs": [],
   "source": [
    "from scAR import model\n",
    "import pandas as pd"
   ]
  },
  {
   "cell_type": "code",
   "execution_count": 2,
   "id": "9f1b9ec0-8452-4f17-983a-324e2d2e1920",
   "metadata": {},
   "outputs": [],
   "source": [
    "raw_count = pd.read_pickle('raw_counts.pickle')\n",
    "empty_profile = pd.read_pickle('ambient_profile.pickle')\n",
    "expected_output = pd.read_pickle('output_assignment.pickle')"
   ]
  },
  {
   "cell_type": "code",
   "execution_count": 3,
   "id": "476f7dba-8bbb-4f7b-9344-b2f0abf8eab1",
   "metadata": {},
   "outputs": [
    {
     "name": "stdout",
     "output_type": "stream",
     "text": [
      "..Running VAE using the following param set:\n",
      "......scAR mode:  CROPseq\n",
      "......count model:  binomial\n",
      "......num_input_feature:  5\n",
      "......NN_layer1:  150\n",
      "......NN_layer2:  100\n",
      "......latent_space:  15\n",
      "......dropout_prob:  0\n",
      "......kld_weight:  1e-05\n",
      "......lr:  0.001\n",
      "......lr_step_size:  5\n",
      "......lr_gamma:  0.97\n",
      "===========================================\n",
      "  Training.....\n",
      "  0%|                                                                                                                                                        | 0/40 [00:00<?, ?it/s]"
     ]
    },
    {
     "name": "stderr",
     "output_type": "stream",
     "text": [
      "/da/onc/bfx/research/shengca1/tools/anaconda3/envs/scAR/lib/python3.10/site-packages/torch/distributions/binomial.py:102: UserWarning: Specified kernel cache directory could not be created! This disables kernel caching. Specified directory is /home/shengca1/.cache/torch/kernels. This warning will appear only once per process. (Triggered internally at  /opt/conda/conda-bld/pytorch_1646755888698/work/aten/src/ATen/native/cuda/jit_utils.cpp:860.)\n",
      "  log_factorial_n = torch.lgamma(self.total_count + 1)\n"
     ]
    },
    {
     "name": "stdout",
     "output_type": "stream",
     "text": [
      "100%|███████████████████████████████████████████████████████████████████████████████████████████████████████████████████████████████████████████████| 40/40 [00:01<00:00, 20.17it/s]\n",
      "===========================================\n",
      "  Inferring .....\n"
     ]
    }
   ],
   "source": [
    "scarObj = model(raw_count=raw_count.values,\n",
    "                empty_profile=empty_profile,\n",
    "                scRNAseq_tech='CROPseq')\n",
    "\n",
    "scarObj.train(epochs=40,\n",
    "              batch_size=64,)\n",
    "\n",
    "scarObj.inference()"
   ]
  },
  {
   "cell_type": "markdown",
   "id": "c1bc7f76-b22a-4fe4-a297-d4db3dfd80c3",
   "metadata": {},
   "source": [
    "**test whether the output is expected**"
   ]
  },
  {
   "cell_type": "code",
   "execution_count": 4,
   "id": "5fa6bb3b-ff74-43bb-b73d-6928ed2a24c6",
   "metadata": {},
   "outputs": [
    {
     "data": {
      "text/plain": [
       "True"
      ]
     },
     "execution_count": 4,
     "metadata": {},
     "output_type": "execute_result"
    }
   ],
   "source": [
    "scarObj.feature_assignment.equals(expected_output)"
   ]
  }
 ],
 "metadata": {
  "kernelspec": {
   "display_name": "scAR-0.2",
   "language": "python",
   "name": "scar-0.2"
  },
  "language_info": {
   "codemirror_mode": {
    "name": "ipython",
    "version": 3
   },
   "file_extension": ".py",
   "mimetype": "text/x-python",
   "name": "python",
   "nbconvert_exporter": "python",
   "pygments_lexer": "ipython3",
   "version": "3.10.4"
  }
 },
 "nbformat": 4,
 "nbformat_minor": 5
}
