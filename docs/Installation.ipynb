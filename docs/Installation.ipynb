{
 "cells": [
  {
   "cell_type": "markdown",
   "metadata": {},
   "source": [
    "# Installation\n",
    "\n",
    "To use `scAR`, first install it using conda install or Git+pip."
   ]
  },
  {
   "cell_type": "markdown",
   "metadata": {
    "tags": [
     "caption"
    ]
   },
   "source": [
    "## Conda install\n",
    "\n",
    "1) Install [conda](https://docs.conda.io/projects/conda/en/latest/user-guide/install/index.html)  \n",
    "\n",
    "2) Create conda environment\n",
    "\n",
    "        conda create -n scar\n",
    "\n",
    "3) Activate conda environment\n",
    "\n",
    "        conda activate scar\n",
    "    \n",
    "4) Install scar\n",
    "\n",
    "        conda install -c bioconda scar\n",
    "    \n",
    "5) Activate the scar conda environment,\n",
    "\n",
    "        conda activate scar\n",
    "    \n",
    "## Git + pip\n",
    "\n",
    "1) Clone scar repository\n",
    "\n",
    "        git clone https://github.com/Novartis/scAR.git\n",
    "    \n",
    "2) Enter the cloned directory\n",
    "\n",
    "        cd scAR\n",
    "    \n",
    "3) Create a conda environment,\n",
    "\n",
    "<div class=\"alert alert-info\">\n",
    "\n",
    "Note\n",
    "\n",
    "Please use ``scar-gpu`` if you have an nvidia graphis card and the corresponging driver installed.\n",
    "</div>\n",
    "\n",
    "    conda env create -f scar-gpu.yml\n",
    "\n",
    "\n",
    "<div class=\"alert alert-info\">\n",
    "\n",
    "Note\n",
    "\n",
    "Please use ``scar-cpu`` if you don't have a graphis card availalble.\n",
    "</div>\n",
    "\n",
    "    conda env create -f scar-cpu.yml\n",
    "    \n",
    "4) Activate the scar conda environment,\n",
    "\n",
    "        conda activate scar"
   ]
  }
 ],
 "metadata": {
  "kernelspec": {
   "display_name": "cropseq",
   "language": "python",
   "name": "cropseq"
  },
  "language_info": {
   "codemirror_mode": {
    "name": "ipython",
    "version": 3
   },
   "file_extension": ".py",
   "mimetype": "text/x-python",
   "name": "python",
   "nbconvert_exporter": "python",
   "pygments_lexer": "ipython3",
   "version": "3.9.12"
  }
 },
 "nbformat": 4,
 "nbformat_minor": 4
}
