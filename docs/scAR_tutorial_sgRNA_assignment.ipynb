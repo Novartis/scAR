{
 "cells": [
  {
   "cell_type": "markdown",
   "id": "f041069a-5e79-4341-8109-6bdb881a6d7e",
   "metadata": {},
   "source": [
    "# sgRNA assignment\n",
    "\n",
    "\n",
    "In this tutorial, we'll be walking through the steps to sgRNA assignment for scCRISPRseq (inc. CROP-seq, Perturb-seq, CRISP-seq) as well as assignment of cell tags for multiplexed indexing experiments. \n",
    "\n",
    "In this experiment, A549 lung carcinoma cells were transduced with a pool containing 93 total sgRNAs (90 sgRNAs targeting 45 different genes and 3 control sgRNAs). Cells were split into 6 conditions, receiving no treatment or treatments of DZNep, Trichostatin A, Valproic Acid, Kinetin, or, Resveratrol. Before sequencing, cells were multiplexed at equal proportions with 1 CMO per sample type. The original dataset is downloaded from 10x genomics [dataset](https://www.10xgenomics.com/resources/datasets/30-k-a-549-lung-carcinoma-cells-treatments-transduced-with-a-crispr-pool-multiplexed-6-cm-os-3-1-standard-6-0-0), and metadata is available at [../datasets](https://github.com/Novartis/scAR/datasets/)\n",
    "\n",
    "\n",
    "<div class=\"alert alert-info\">\n",
    "\n",
    "Note\n",
    "\n",
    "You need to install [scar](https://scar-tutorials.readthedocs.io/en/latest/) to run this notebook on your own device. \n",
    "\n",
    "You can also run it on Colab [![Open In Colab](https://colab.research.google.com/assets/colab-badge.svg)](https://colab.research.google.com/github/Novartis/scAR/blob/develop/docs/scAR_tutorial_sgRNA_assignment.ipynb)  **This option may not work at the moment**\n",
    "\n",
    "</div>"
   ]
  },
  {
   "cell_type": "code",
   "execution_count": null,
   "id": "5ec2e50c-d6fa-48e4-940e-9526cb1eef2e",
   "metadata": {},
   "outputs": [],
   "source": [
    "# Run this cell to install scar in Colab\n",
    "# Skip this cell if running on your own device\n",
    "\n",
    "%pip install scanpy\n",
    "%pip install git+https://github.com/Novartis/scAR.git"
   ]
  },
  {
   "cell_type": "code",
   "execution_count": 1,
   "id": "51066fe9-3834-47f3-960f-0adc64f4f902",
   "metadata": {},
   "outputs": [],
   "source": [
    "import pandas as pd\n",
    "import matplotlib.pyplot as plt\n",
    "import seaborn as sns\n",
    "import scanpy as sc\n",
    "from scar import model\n",
    "\n",
    "import warnings\n",
    "warnings.simplefilter(\"ignore\")"
   ]
  },
  {
   "cell_type": "markdown",
   "id": "02286397-0536-4530-a467-50127945086a",
   "metadata": {},
   "source": [
    "## Download data\n",
    "\n",
    "The raw count matrices (cellranger output: raw_feature_bc_matrix) can be downloaded from 10x Dataset. Filtered count matrices are not available for this experiment."
   ]
  },
  {
   "cell_type": "code",
   "execution_count": 2,
   "id": "048bc98a-5be4-425d-810e-2fcaf93f875e",
   "metadata": {},
   "outputs": [],
   "source": [
    "A549_30K = sc.read_10x_h5(filename='CRISPR_A549_30K_Multiplex_count_raw_feature_bc_matrix.h5ad',\n",
    "                          gex_only=False,\n",
    "                          backup_url='https://cf.10xgenomics.com/samples/cell-exp/6.0.0/SC3_v3_NextGem_DI_CellPlex_CRISPR_A549_30K_Multiplex/SC3_v3_NextGem_DI_CellPlex_CRISPR_A549_30K_Multiplex_count_raw_feature_bc_matrix.h5');\n",
    "\n",
    "A549_30K.var_names_make_unique();"
   ]
  },
  {
   "cell_type": "markdown",
   "id": "1ef7ee35-b779-4362-a8c3-a93a3665920d",
   "metadata": {},
   "source": [
    "sgRNA counts (unfiltered droplets)"
   ]
  },
  {
   "cell_type": "code",
   "execution_count": 3,
   "id": "427012bf-d061-4ba9-bd2e-5b857a6448d5",
   "metadata": {},
   "outputs": [],
   "source": [
    "A549_30K_sgRNA_raw = A549_30K[:, A549_30K.var['feature_types']=='CRISPR Guide Capture'].to_df()"
   ]
  },
  {
   "cell_type": "markdown",
   "id": "72180090-d649-44d9-87bf-0a1e1e768c31",
   "metadata": {
    "tags": []
   },
   "source": [
    "## Estimate ambient profile"
   ]
  },
  {
   "cell_type": "markdown",
   "id": "70ab972a-cde4-4676-9380-eeb0e88c172f",
   "metadata": {},
   "source": [
    "Identify cell-containing and cell-free droplets using kneeplot of mRNA counts."
   ]
  },
  {
   "cell_type": "code",
   "execution_count": 4,
   "id": "1b19fb4e-1006-4162-b3b3-d05fce629592",
   "metadata": {},
   "outputs": [],
   "source": [
    "all_droplets = pd.DataFrame(A549_30K[:,A549_30K.var['feature_types']=='Gene Expression'].X.sum(axis=1), index = A549_30K.obs_names, columns=['total_counts'])\n",
    "\n",
    "all_droplets['droplets'] = 'cell-free droplets'\n",
    "all_droplets['droplets'] = all_droplets['droplets'].mask(all_droplets['total_counts']>200, 'others')\n",
    "all_droplets['droplets'] = all_droplets['droplets'].mask(all_droplets['total_counts']>500, 'cells')\n",
    "all_droplets = all_droplets.sort_values(by='total_counts', ascending=False).reset_index().rename_axis(\"rank\").reset_index()\n",
    "all_droplets = all_droplets.loc[all_droplets['total_counts']>0]\n",
    "all_droplets = all_droplets.set_index('index').rename_axis('cells')"
   ]
  },
  {
   "cell_type": "markdown",
   "id": "73b48649-ea80-484a-83b1-1abe3fe3deee",
   "metadata": {},
   "source": [
    "<div class=\"alert alert-info\">\n",
    "\n",
    "Note\n",
    "\n",
    "The thresholds (200 and 500) are experiment-specific. We currently manually determine them by examing the following kneeplot. \n",
    "\n",
    "</div>"
   ]
  },
  {
   "cell_type": "code",
   "execution_count": 5,
   "id": "addf6b42-5486-4546-9b15-32de7ed202f7",
   "metadata": {},
   "outputs": [
    {
     "data": {
      "image/png": "[encoded data removed]",
      "text/plain": [
       "<Figure size 450x270 with 1 Axes>"
      ]
     },
     "metadata": {
      "needs_background": "light"
     },
     "output_type": "display_data"
    }
   ],
   "source": [
    "plt.figure(figsize=(3, 1.8), dpi=150)\n",
    "\n",
    "ax = sns.lineplot(data = all_droplets,\n",
    "                  x='rank',\n",
    "                  y='total_counts',\n",
    "                  hue='droplets',\n",
    "                  hue_order=['cells', 'others', 'cell-free droplets'],\n",
    "                  palette=sns.color_palette()[-3:],\n",
    "                  markers=False,\n",
    "                  lw=2)\n",
    "\n",
    "ax.set_xscale('log')\n",
    "ax.set_yscale('log')\n",
    "ax.set_xlabel('sorted droplets');\n",
    "ax.legend(loc='lower left', ncol=1, title=None, frameon=False)\n",
    "ax.set_title(f'kneeplot: A549_30k');\n",
    "\n",
    "sns.set_palette(\"muted\")\n",
    "sns.set_style(\"ticks\")\n",
    "sns.despine(offset=10, trim=False);"
   ]
  },
  {
   "cell_type": "markdown",
   "id": "6263f28d-aa21-4ed5-aab8-4c64942b3cec",
   "metadata": {
    "tags": []
   },
   "source": [
    "**Raw count matrix of sgRNAs (filtered droplets)**"
   ]
  },
  {
   "cell_type": "code",
   "execution_count": 6,
   "id": "c8c92b3d-b743-4fdc-b67b-7e833ddcb645",
   "metadata": {},
   "outputs": [],
   "source": [
    "A549_30K_filtered = A549_30K[A549_30K.obs_names.isin(all_droplets[all_droplets['droplets']=='cells'].index)] # equal to filtered population as cellranger output"
   ]
  },
  {
   "cell_type": "code",
   "execution_count": 7,
   "id": "73a564fa-5dde-4f42-ab0b-d4350b49438e",
   "metadata": {},
   "outputs": [
    {
     "data": {
      "text/html": [
       "<div>\n",
       "<style scoped>\n",
       "    .dataframe tbody tr th:only-of-type {\n",
       "        vertical-align: middle;\n",
       "    }\n",
       "\n",
       "    .dataframe tbody tr th {\n",
       "        vertical-align: top;\n",
       "    }\n",
       "\n",
       "    .dataframe thead th {\n",
       "        text-align: right;\n",
       "    }\n",
       "</style>\n",
       "<table border=\"1\" class=\"dataframe\">\n",
       "  <thead>\n",
       "    <tr style=\"text-align: right;\">\n",
       "      <th></th>\n",
       "      <th>Non-Targeting-5</th>\n",
       "      <th>Non-Targeting-7</th>\n",
       "      <th>Non-Targeting-8</th>\n",
       "      <th>APH1A-1</th>\n",
       "      <th>APH1A-2</th>\n",
       "      <th>CDKN3-1</th>\n",
       "      <th>CDKN3-2</th>\n",
       "      <th>EZR-1</th>\n",
       "      <th>EZR-2</th>\n",
       "      <th>GRB2-1</th>\n",
       "      <th>...</th>\n",
       "      <th>ACE2-1</th>\n",
       "      <th>ACE2-2</th>\n",
       "      <th>TMPRSS2-1</th>\n",
       "      <th>TMPRSS2-2</th>\n",
       "      <th>RAB1A-2</th>\n",
       "      <th>RAB1A-3</th>\n",
       "      <th>DPP4-1</th>\n",
       "      <th>DPP4-2</th>\n",
       "      <th>HDAC1-1</th>\n",
       "      <th>HDAC1-2</th>\n",
       "    </tr>\n",
       "  </thead>\n",
       "  <tbody>\n",
       "    <tr>\n",
       "      <th>AAACCCAAGCTAAGTA-1</th>\n",
       "      <td>0.0</td>\n",
       "      <td>5.0</td>\n",
       "      <td>0.0</td>\n",
       "      <td>180.0</td>\n",
       "      <td>0.0</td>\n",
       "      <td>0.0</td>\n",
       "      <td>0.0</td>\n",
       "      <td>0.0</td>\n",
       "      <td>0.0</td>\n",
       "      <td>0.0</td>\n",
       "      <td>...</td>\n",
       "      <td>0.0</td>\n",
       "      <td>0.0</td>\n",
       "      <td>1.0</td>\n",
       "      <td>0.0</td>\n",
       "      <td>0.0</td>\n",
       "      <td>0.0</td>\n",
       "      <td>1.0</td>\n",
       "      <td>0.0</td>\n",
       "      <td>0.0</td>\n",
       "      <td>2.0</td>\n",
       "    </tr>\n",
       "    <tr>\n",
       "      <th>AAACCCAAGGAAGTGA-1</th>\n",
       "      <td>0.0</td>\n",
       "      <td>1.0</td>\n",
       "      <td>2.0</td>\n",
       "      <td>0.0</td>\n",
       "      <td>0.0</td>\n",
       "      <td>0.0</td>\n",
       "      <td>0.0</td>\n",
       "      <td>0.0</td>\n",
       "      <td>0.0</td>\n",
       "      <td>0.0</td>\n",
       "      <td>...</td>\n",
       "      <td>0.0</td>\n",
       "      <td>0.0</td>\n",
       "      <td>3.0</td>\n",
       "      <td>0.0</td>\n",
       "      <td>0.0</td>\n",
       "      <td>0.0</td>\n",
       "      <td>0.0</td>\n",
       "      <td>0.0</td>\n",
       "      <td>0.0</td>\n",
       "      <td>0.0</td>\n",
       "    </tr>\n",
       "    <tr>\n",
       "      <th>AAACCCAAGGTTGGAC-1</th>\n",
       "      <td>0.0</td>\n",
       "      <td>0.0</td>\n",
       "      <td>0.0</td>\n",
       "      <td>0.0</td>\n",
       "      <td>0.0</td>\n",
       "      <td>0.0</td>\n",
       "      <td>0.0</td>\n",
       "      <td>0.0</td>\n",
       "      <td>0.0</td>\n",
       "      <td>0.0</td>\n",
       "      <td>...</td>\n",
       "      <td>2.0</td>\n",
       "      <td>0.0</td>\n",
       "      <td>0.0</td>\n",
       "      <td>0.0</td>\n",
       "      <td>0.0</td>\n",
       "      <td>0.0</td>\n",
       "      <td>0.0</td>\n",
       "      <td>0.0</td>\n",
       "      <td>0.0</td>\n",
       "      <td>0.0</td>\n",
       "    </tr>\n",
       "    <tr>\n",
       "      <th>AAACCCAAGTGCGTCC-1</th>\n",
       "      <td>1.0</td>\n",
       "      <td>0.0</td>\n",
       "      <td>5.0</td>\n",
       "      <td>0.0</td>\n",
       "      <td>0.0</td>\n",
       "      <td>4.0</td>\n",
       "      <td>1.0</td>\n",
       "      <td>0.0</td>\n",
       "      <td>1.0</td>\n",
       "      <td>0.0</td>\n",
       "      <td>...</td>\n",
       "      <td>0.0</td>\n",
       "      <td>3.0</td>\n",
       "      <td>0.0</td>\n",
       "      <td>0.0</td>\n",
       "      <td>0.0</td>\n",
       "      <td>0.0</td>\n",
       "      <td>0.0</td>\n",
       "      <td>0.0</td>\n",
       "      <td>0.0</td>\n",
       "      <td>0.0</td>\n",
       "    </tr>\n",
       "    <tr>\n",
       "      <th>AAACCCAAGTGCTCGC-1</th>\n",
       "      <td>2.0</td>\n",
       "      <td>0.0</td>\n",
       "      <td>0.0</td>\n",
       "      <td>0.0</td>\n",
       "      <td>0.0</td>\n",
       "      <td>0.0</td>\n",
       "      <td>1.0</td>\n",
       "      <td>0.0</td>\n",
       "      <td>0.0</td>\n",
       "      <td>0.0</td>\n",
       "      <td>...</td>\n",
       "      <td>0.0</td>\n",
       "      <td>0.0</td>\n",
       "      <td>0.0</td>\n",
       "      <td>0.0</td>\n",
       "      <td>0.0</td>\n",
       "      <td>0.0</td>\n",
       "      <td>0.0</td>\n",
       "      <td>0.0</td>\n",
       "      <td>0.0</td>\n",
       "      <td>0.0</td>\n",
       "    </tr>\n",
       "  </tbody>\n",
       "</table>\n",
       "<p>5 rows × 93 columns</p>\n",
       "</div>"
      ],
      "text/plain": [
       "                    Non-Targeting-5  Non-Targeting-7  Non-Targeting-8  \\\n",
       "AAACCCAAGCTAAGTA-1              0.0              5.0              0.0   \n",
       "AAACCCAAGGAAGTGA-1              0.0              1.0              2.0   \n",
       "AAACCCAAGGTTGGAC-1              0.0              0.0              0.0   \n",
       "AAACCCAAGTGCGTCC-1              1.0              0.0              5.0   \n",
       "AAACCCAAGTGCTCGC-1              2.0              0.0              0.0   \n",
       "\n",
       "                    APH1A-1  APH1A-2  CDKN3-1  CDKN3-2  EZR-1  EZR-2  GRB2-1  \\\n",
       "AAACCCAAGCTAAGTA-1    180.0      0.0      0.0      0.0    0.0    0.0     0.0   \n",
       "AAACCCAAGGAAGTGA-1      0.0      0.0      0.0      0.0    0.0    0.0     0.0   \n",
       "AAACCCAAGGTTGGAC-1      0.0      0.0      0.0      0.0    0.0    0.0     0.0   \n",
       "AAACCCAAGTGCGTCC-1      0.0      0.0      4.0      1.0    0.0    1.0     0.0   \n",
       "AAACCCAAGTGCTCGC-1      0.0      0.0      0.0      1.0    0.0    0.0     0.0   \n",
       "\n",
       "                    ...  ACE2-1  ACE2-2  TMPRSS2-1  TMPRSS2-2  RAB1A-2  \\\n",
       "AAACCCAAGCTAAGTA-1  ...     0.0     0.0        1.0        0.0      0.0   \n",
       "AAACCCAAGGAAGTGA-1  ...     0.0     0.0        3.0        0.0      0.0   \n",
       "AAACCCAAGGTTGGAC-1  ...     2.0     0.0        0.0        0.0      0.0   \n",
       "AAACCCAAGTGCGTCC-1  ...     0.0     3.0        0.0        0.0      0.0   \n",
       "AAACCCAAGTGCTCGC-1  ...     0.0     0.0        0.0        0.0      0.0   \n",
       "\n",
       "                    RAB1A-3  DPP4-1  DPP4-2  HDAC1-1  HDAC1-2  \n",
       "AAACCCAAGCTAAGTA-1      0.0     1.0     0.0      0.0      2.0  \n",
       "AAACCCAAGGAAGTGA-1      0.0     0.0     0.0      0.0      0.0  \n",
       "AAACCCAAGGTTGGAC-1      0.0     0.0     0.0      0.0      0.0  \n",
       "AAACCCAAGTGCGTCC-1      0.0     0.0     0.0      0.0      0.0  \n",
       "AAACCCAAGTGCTCGC-1      0.0     0.0     0.0      0.0      0.0  \n",
       "\n",
       "[5 rows x 93 columns]"
      ]
     },
     "execution_count": 7,
     "metadata": {},
     "output_type": "execute_result"
    }
   ],
   "source": [
    "A549_30K_sgRNAs_filtered = A549_30K_filtered[:, A549_30K_filtered.var['feature_types']=='CRISPR Guide Capture'].to_df() # pandas.DataFrame\n",
    "\n",
    "A549_30K_sgRNAs_filtered.head()"
   ]
  },
  {
   "cell_type": "markdown",
   "id": "336f57ee-19d7-4779-ac48-ee92cda560c5",
   "metadata": {},
   "source": [
    "**Ambient profile of sgRNAs**"
   ]
  },
  {
   "cell_type": "code",
   "execution_count": 8,
   "id": "2018be3a-d9fa-4704-9564-d25e0628d828",
   "metadata": {},
   "outputs": [
    {
     "data": {
      "text/html": [
       "<div>\n",
       "<style scoped>\n",
       "    .dataframe tbody tr th:only-of-type {\n",
       "        vertical-align: middle;\n",
       "    }\n",
       "\n",
       "    .dataframe tbody tr th {\n",
       "        vertical-align: top;\n",
       "    }\n",
       "\n",
       "    .dataframe thead th {\n",
       "        text-align: right;\n",
       "    }\n",
       "</style>\n",
       "<table border=\"1\" class=\"dataframe\">\n",
       "  <thead>\n",
       "    <tr style=\"text-align: right;\">\n",
       "      <th></th>\n",
       "      <th>ambient profile</th>\n",
       "    </tr>\n",
       "  </thead>\n",
       "  <tbody>\n",
       "    <tr>\n",
       "      <th>Non-Targeting-5</th>\n",
       "      <td>0.022609</td>\n",
       "    </tr>\n",
       "    <tr>\n",
       "      <th>Non-Targeting-7</th>\n",
       "      <td>0.026718</td>\n",
       "    </tr>\n",
       "    <tr>\n",
       "      <th>Non-Targeting-8</th>\n",
       "      <td>0.035229</td>\n",
       "    </tr>\n",
       "    <tr>\n",
       "      <th>APH1A-1</th>\n",
       "      <td>0.022778</td>\n",
       "    </tr>\n",
       "    <tr>\n",
       "      <th>APH1A-2</th>\n",
       "      <td>0.003036</td>\n",
       "    </tr>\n",
       "  </tbody>\n",
       "</table>\n",
       "</div>"
      ],
      "text/plain": [
       "                 ambient profile\n",
       "Non-Targeting-5         0.022609\n",
       "Non-Targeting-7         0.026718\n",
       "Non-Targeting-8         0.035229\n",
       "APH1A-1                 0.022778\n",
       "APH1A-2                 0.003036"
      ]
     },
     "execution_count": 8,
     "metadata": {},
     "output_type": "execute_result"
    }
   ],
   "source": [
    "cell_free_sgRNAs = A549_30K_sgRNA_raw.loc[A549_30K_sgRNA_raw.index.difference(A549_30K_sgRNAs_filtered.index)]\n",
    "ambient_profile_sgRNAs = cell_free_sgRNAs.sum()/cell_free_sgRNAs.sum().sum()   # pandas.Series\n",
    "ambient_profile_sgRNAs = ambient_profile_sgRNAs.to_frame(\"ambient profile\")\n",
    "\n",
    "ambient_profile_sgRNAs.head()"
   ]
  },
  {
   "cell_type": "markdown",
   "id": "45d9f40e-a631-4b61-ae7f-fc1caffacb7f",
   "metadata": {},
   "source": [
    "## Training"
   ]
  },
  {
   "cell_type": "code",
   "execution_count": 9,
   "id": "27e85c0e-6e24-4d73-850f-8c4e65481b0d",
   "metadata": {},
   "outputs": [
    {
     "name": "stdout",
     "output_type": "stream",
     "text": [
      "..Running VAE using the following param set:\n",
      "......denoised count type:  sgRNAs\n",
      "......count model:  binomial\n",
      "......num_input_feature:  93\n",
      "......NN_layer1:  150\n",
      "......NN_layer2:  100\n",
      "......latent_space:  15\n",
      "......dropout_prob:  0\n",
      "......kld_weight:  1e-05\n",
      "......lr:  0.001\n",
      "......lr_step_size:  5\n",
      "......lr_gamma:  0.97\n",
      "===========================================\n",
      "  Training.....\n",
      "100%|██████████| 100/100 [03:04<00:00,  1.85s/it]\n",
      "===========================================\n",
      "  Inferring .....\n"
     ]
    }
   ],
   "source": [
    "sgRNAs = model(raw_count = A549_30K_sgRNAs_filtered,\n",
    "               ambient_profile = ambient_profile_sgRNAs, # In the case of default None, the ambient_profile will be calculated by averaging pooled cells\n",
    "               feature_type = 'sgRNAs')\n",
    "\n",
    "sgRNAs.train(epochs=100,\n",
    "             batch_size=64,\n",
    "             verbose=True\n",
    "            )\n",
    "\n",
    "# After training, we can infer the native true signal\n",
    "sgRNAs.inference(cutoff=3)  # by defaut, batch_size=None, set a batch_size if getting a GPU memory issue"
   ]
  },
  {
   "cell_type": "markdown",
   "id": "d4a06f1c-b959-48cc-9503-f67365c299c0",
   "metadata": {},
   "source": [
    "Resulting assignment is saved in `sgRNAs.feature_assignment`.\n",
    "\n",
    "If there are multiple guides detected after denoising, try to increase the cutoff and re-run `sgRNAs.inference(cutoff=10)`"
   ]
  },
  {
   "cell_type": "code",
   "execution_count": 10,
   "id": "f484e53d-1ebf-414a-949c-3b7a7b3ebfc5",
   "metadata": {},
   "outputs": [
    {
     "data": {
      "text/html": [
       "<div>\n",
       "<style scoped>\n",
       "    .dataframe tbody tr th:only-of-type {\n",
       "        vertical-align: middle;\n",
       "    }\n",
       "\n",
       "    .dataframe tbody tr th {\n",
       "        vertical-align: top;\n",
       "    }\n",
       "\n",
       "    .dataframe thead th {\n",
       "        text-align: right;\n",
       "    }\n",
       "</style>\n",
       "<table border=\"1\" class=\"dataframe\">\n",
       "  <thead>\n",
       "    <tr style=\"text-align: right;\">\n",
       "      <th></th>\n",
       "      <th>sgRNAs</th>\n",
       "      <th>n_sgRNAs</th>\n",
       "    </tr>\n",
       "  </thead>\n",
       "  <tbody>\n",
       "    <tr>\n",
       "      <th>AAACCCAAGCTAAGTA-1</th>\n",
       "      <td>H2AFY-1</td>\n",
       "      <td>1</td>\n",
       "    </tr>\n",
       "    <tr>\n",
       "      <th>AAACCCAAGGAAGTGA-1</th>\n",
       "      <td>PPIB-2</td>\n",
       "      <td>1</td>\n",
       "    </tr>\n",
       "    <tr>\n",
       "      <th>AAACCCAAGGTTGGAC-1</th>\n",
       "      <td>ACE2-1</td>\n",
       "      <td>1</td>\n",
       "    </tr>\n",
       "    <tr>\n",
       "      <th>AAACCCAAGTGCGTCC-1</th>\n",
       "      <td>Non-Targeting-8</td>\n",
       "      <td>1</td>\n",
       "    </tr>\n",
       "    <tr>\n",
       "      <th>AAACCCAAGTGCTCGC-1</th>\n",
       "      <td>CTCF-2</td>\n",
       "      <td>1</td>\n",
       "    </tr>\n",
       "    <tr>\n",
       "      <th>...</th>\n",
       "      <td>...</td>\n",
       "      <td>...</td>\n",
       "    </tr>\n",
       "    <tr>\n",
       "      <th>TTTGTTGTCCCATTTA-1</th>\n",
       "      <td>CSNK2A1-1</td>\n",
       "      <td>1</td>\n",
       "    </tr>\n",
       "    <tr>\n",
       "      <th>TTTGTTGTCGGAACTT-1</th>\n",
       "      <td>EIF4EBP1-2</td>\n",
       "      <td>1</td>\n",
       "    </tr>\n",
       "    <tr>\n",
       "      <th>TTTGTTGTCGGCTGTG-1</th>\n",
       "      <td>SUZ12-1</td>\n",
       "      <td>1</td>\n",
       "    </tr>\n",
       "    <tr>\n",
       "      <th>TTTGTTGTCTGGGCGT-1</th>\n",
       "      <td>GSK3A-2</td>\n",
       "      <td>1</td>\n",
       "    </tr>\n",
       "    <tr>\n",
       "      <th>TTTGTTGTCTTCCAGC-1</th>\n",
       "      <td>PPIB-2, RBBP4-1</td>\n",
       "      <td>2</td>\n",
       "    </tr>\n",
       "  </tbody>\n",
       "</table>\n",
       "<p>21091 rows × 2 columns</p>\n",
       "</div>"
      ],
      "text/plain": [
       "                             sgRNAs n_sgRNAs\n",
       "AAACCCAAGCTAAGTA-1          H2AFY-1        1\n",
       "AAACCCAAGGAAGTGA-1           PPIB-2        1\n",
       "AAACCCAAGGTTGGAC-1           ACE2-1        1\n",
       "AAACCCAAGTGCGTCC-1  Non-Targeting-8        1\n",
       "AAACCCAAGTGCTCGC-1           CTCF-2        1\n",
       "...                             ...      ...\n",
       "TTTGTTGTCCCATTTA-1        CSNK2A1-1        1\n",
       "TTTGTTGTCGGAACTT-1       EIF4EBP1-2        1\n",
       "TTTGTTGTCGGCTGTG-1          SUZ12-1        1\n",
       "TTTGTTGTCTGGGCGT-1          GSK3A-2        1\n",
       "TTTGTTGTCTTCCAGC-1  PPIB-2, RBBP4-1        2\n",
       "\n",
       "[21091 rows x 2 columns]"
      ]
     },
     "execution_count": 10,
     "metadata": {},
     "output_type": "execute_result"
    }
   ],
   "source": [
    "sgRNAs.feature_assignment"
   ]
  },
  {
   "cell_type": "markdown",
   "id": "2fe7d7e0-ca11-4c6a-a3d6-ff3ffe43f248",
   "metadata": {},
   "source": [
    "## Visulization"
   ]
  },
  {
   "cell_type": "markdown",
   "id": "5f64928c-df65-4a05-b4ef-058a2a169612",
   "metadata": {},
   "source": [
    "Plot setting"
   ]
  },
  {
   "cell_type": "code",
   "execution_count": 11,
   "id": "50a64acc-9c20-4570-a6e5-bccaabe83207",
   "metadata": {},
   "outputs": [
    {
     "data": {
      "text/plain": [
       "<Figure size 288x216 with 0 Axes>"
      ]
     },
     "metadata": {},
     "output_type": "display_data"
    }
   ],
   "source": [
    "from matplotlib import pylab\n",
    "\n",
    "params = {'legend.fontsize': 6,\n",
    "          'legend.title_fontsize': 8,\n",
    "          'figure.facecolor':\"w\",\n",
    "          'figure.figsize': (4, 3),\n",
    "         'axes.labelsize': 10,\n",
    "         'axes.titlesize':10,\n",
    "         'axes.linewidth': 0.5,\n",
    "         'xtick.labelsize':10,\n",
    "         'ytick.labelsize':10,\n",
    "         'axes.grid':False,}\n",
    "\n",
    "pylab.rc('font',**{'family':'serif','serif':['Palatino'],'size':10})\n",
    "pylab.rcParams.update(params);\n",
    "\n",
    "sns.set_palette(\"muted\");\n",
    "sns.set_style(\"ticks\");\n",
    "sns.despine(offset=4, trim=True);"
   ]
  },
  {
   "cell_type": "markdown",
   "id": "3f249e9f-f2f3-4d8b-9aab-0958595703d4",
   "metadata": {},
   "source": [
    "### Cell number of sgRNA assignments"
   ]
  },
  {
   "cell_type": "code",
   "execution_count": 12,
   "id": "e9e85644-367e-4d24-8253-9bf2da5927ba",
   "metadata": {
    "tags": [
     "nbsphinx-gallery",
     "nbsphinx-thumbnail"
    ]
   },
   "outputs": [
    {
     "data": {
      "image/png": "[encoded data removed]",
      "text/plain": [
       "<Figure size 288x216 with 1 Axes>"
      ]
     },
     "metadata": {},
     "output_type": "display_data"
    }
   ],
   "source": [
    "cell_num = sgRNAs.feature_assignment.value_counts(\"n_sgRNAs\").to_frame(\"cell numbers\").reset_index()\n",
    "\n",
    "plt.figure(figsize=(4, 3))\n",
    "\n",
    "sns.barplot(data = cell_num,\n",
    "            x = 'n_sgRNAs',\n",
    "            y = 'cell numbers'\n",
    "           );\n",
    "\n",
    "plt.xlabel(\"number of distinct sgRNAs\");"
   ]
  },
  {
   "cell_type": "markdown",
   "id": "ad60c077-3f63-4b0b-836d-02f21b6599e7",
   "metadata": {},
   "source": [
    "Most of cells are assigned with a single sgRNA."
   ]
  }
 ],
 "metadata": {
  "kernelspec": {
   "display_name": "scar",
   "language": "python",
   "name": "scar"
  },
  "language_info": {
   "codemirror_mode": {
    "name": "ipython",
    "version": 3
   },
   "file_extension": ".py",
   "mimetype": "text/x-python",
   "name": "python",
   "nbconvert_exporter": "python",
   "pygments_lexer": "ipython3",
   "version": "3.10.4"
  }
 },
 "nbformat": 4,
 "nbformat_minor": 5
}
