{
 "cells": [
  {
   "cell_type": "markdown",
   "id": "292f4a7a-8578-4bda-9a15-186db1e448fe",
   "metadata": {},
   "source": [
    "# Calculating the ambient profile\n",
    "\n",
    "In this tutorial, we'll be walking through the steps to calculating the ambient profile counts.   \n",
    "\n",
    "In the first experiment, an equal number of human HEK293T cells and mouse NIH3T3 cells were pooled and sequenced, transcripts from the other organism were unambiguously ambient contamination. The original dataset is downloaded from 10x genomics [dataset](https://www.10xgenomics.com/resources/datasets/20-k-1-1-mixture-of-human-hek-293-t-and-mouse-nih-3-t-3-cells-3-ht-v-3-1-3-1-high-6-1-0), and cell annotation file is available at  [scAR-reproducibility/data](https://github.com/CaibinSh/scAR-reproducibility/tree/main/data). We will be using two approaches to calculate the ambient profile.  \n",
    "\n",
    "In the second experiment, Gene Expression, Feature Barcode, BCR Enriched, and TCR Enriched libraries were generated from 16,520 human peripheral blood mononuclear cells (PBMCs) of a healthy male donor. We will be using the Feature Barcode data to demonstrate the calculation of ambient profile. For details, see 10x genomics [dataset](https://www.10xgenomics.com/resources/datasets/human-pbmc-from-a-healthy-donor-10-k-cells-v-2-2-standard-5-0-0).\n",
    "\n",
    "<div class=\"alert alert-info\">\n",
    "\n",
    "Note\n",
    "\n",
    "You need to install [scar](https://scar-tutorials.readthedocs.io/en/latest/) to run this notebook on your own device. \n",
    "\n",
    "You can also run it on Colab [![Open In Colab](https://colab.research.google.com/assets/colab-badge.svg)](https://colab.research.google.com/github/Novartis/scAR/blob/main/docs/tutorials/scAR_tutorial_ambient_profile.ipynb)\n",
    "\n",
    "</div>"
   ]
  },
  {
   "cell_type": "code",
   "execution_count": null,
   "id": "5ec2e50c-d6fa-48e4-940e-9526cb1eef2e",
   "metadata": {},
   "outputs": [],
   "source": [
    "# Run this cell to install scar in Colab\n",
    "# Skip this cell if running on your own device\n",
    "\n",
    "%pip install scanpy\n",
    "%pip install git+https://github.com/Novartis/scAR.git\n",
    "%pip install matplotlib==3.1.3  # Specify this matplotlib version to avoid errors"
   ]
  },
  {
   "cell_type": "code",
   "execution_count": 1,
   "id": "51066fe9-3834-47f3-960f-0adc64f4f902",
   "metadata": {},
   "outputs": [],
   "source": [
    "import pandas as pd\n",
    "import matplotlib.pyplot as plt\n",
    "import seaborn as sns\n",
    "import scanpy as sc\n",
    "\n",
    "import warnings\n",
    "warnings.simplefilter(\"ignore\")"
   ]
  },
  {
   "cell_type": "markdown",
   "id": "5faa5c04-205d-4b1b-a886-dfbb10dca129",
   "metadata": {
    "tags": []
   },
   "source": [
    "## mRNA ambient profile\n",
    "### Download data\n",
    "\n",
    "The raw and filtered count matrices can be downloaded from 10x Dataset."
   ]
  },
  {
   "cell_type": "markdown",
   "id": "aebfe3f1-44f4-4cb8-8d13-9d825ee2a8bf",
   "metadata": {},
   "source": [
    "#### The raw data\n",
    "\n",
    "cellranger output: raw_feature_bc_matrix"
   ]
  },
  {
   "cell_type": "code",
   "execution_count": 2,
   "id": "47d51750-2960-4e44-b644-a50d4eea6922",
   "metadata": {},
   "outputs": [
    {
     "data": {
      "application/vnd.jupyter.widget-view+json": {
       "model_id": "01294379111d46ed9c46e5b30947e103",
       "version_major": 2,
       "version_minor": 0
      },
      "text/plain": [
       "  0%|          | 0.00/236M [00:00<?, ?B/s]"
      ]
     },
     "metadata": {},
     "output_type": "display_data"
    }
   ],
   "source": [
    "hgmm_20k_raw = sc.read_10x_h5(filename='20k_hgmm_3p_HT_nextgem_Chromium_X_raw_feature_bc_matrix.h5ad',\n",
    "                                 backup_url='https://cf.10xgenomics.com/samples/cell-exp/6.1.0/20k_hgmm_3p_HT_nextgem_Chromium_X/20k_hgmm_3p_HT_nextgem_Chromium_X_raw_feature_bc_matrix.h5');\n",
    "hgmm_20k_raw.var_names_make_unique();"
   ]
  },
  {
   "cell_type": "markdown",
   "id": "51d44e50-4045-433f-a9a9-7e4724c19a85",
   "metadata": {},
   "source": [
    "#### The filtered data\n",
    "\n",
    "cellranger output: filtered_feature_bc_matrix"
   ]
  },
  {
   "cell_type": "code",
   "execution_count": 3,
   "id": "7f1e3592-2946-4f38-8c66-ba236de60fbe",
   "metadata": {},
   "outputs": [
    {
     "data": {
      "application/vnd.jupyter.widget-view+json": {
       "model_id": "d8bd9fcf36f44e7aafbeedf5778dd042",
       "version_major": 2,
       "version_minor": 0
      },
      "text/plain": [
       "  0%|          | 0.00/121M [00:00<?, ?B/s]"
      ]
     },
     "metadata": {},
     "output_type": "display_data"
    }
   ],
   "source": [
    "hgmm_20k = sc.read_10x_h5(filename='20k_hgmm_3p_HT_nextgem_Chromium_X_filtered_feature_bc_matrix.h5ad',\n",
    "                             backup_url='https://cf.10xgenomics.com/samples/cell-exp/6.1.0/20k_hgmm_3p_HT_nextgem_Chromium_X/20k_hgmm_3p_HT_nextgem_Chromium_X_filtered_feature_bc_matrix.h5');\n",
    "hgmm_20k.var_names_make_unique();"
   ]
  },
  {
   "cell_type": "markdown",
   "id": "2eaea46b-672f-43c9-bf59-ff705c883860",
   "metadata": {},
   "source": [
    "Gene and cell filtering. Filter out genes of low coverage to save memory."
   ]
  },
  {
   "cell_type": "code",
   "execution_count": 4,
   "id": "8955440c-3a7c-4901-9779-9b99059a46f2",
   "metadata": {},
   "outputs": [],
   "source": [
    "sc.pp.filter_genes(hgmm_20k, min_counts=200);\n",
    "sc.pp.filter_genes(hgmm_20k, max_counts=6000);\n",
    "sc.pp.filter_cells(hgmm_20k, min_genes=200);"
   ]
  },
  {
   "cell_type": "code",
   "execution_count": 5,
   "id": "9dda3863-1785-49a1-9cdd-0b11a3b072ad",
   "metadata": {},
   "outputs": [
    {
     "data": {
      "text/plain": [
       "AnnData object with n_obs × n_vars = 16292 × 16586\n",
       "    obs: 'n_genes'\n",
       "    var: 'gene_ids', 'feature_types', 'genome', 'n_counts'"
      ]
     },
     "execution_count": 5,
     "metadata": {},
     "output_type": "execute_result"
    }
   ],
   "source": [
    "hgmm_20k"
   ]
  },
  {
   "cell_type": "markdown",
   "id": "56555664-57f4-4304-9c5b-365da5e18089",
   "metadata": {},
   "source": [
    "### Estimate the ambient profile"
   ]
  },
  {
   "cell_type": "markdown",
   "id": "08efbefb-d302-4d7e-a6bb-008cba082242",
   "metadata": {},
   "source": [
    "#### Option1, Calculate the ambient profile using the `setup_anndata` method"
   ]
  },
  {
   "cell_type": "markdown",
   "id": "87d8577b-9811-496e-a0b7-3735a94f0ac9",
   "metadata": {},
   "source": [
    "<div class=\"alert alert-info\">\n",
    "\n",
    "Steps:\n",
    "\n",
    "`setup_anndata` is inspired by [EmptyDrops Lun2019](https://doi.org/10.1186/s13059-019-1662-y), which assumes that cell-free droplets are sampled from a multinomial distribution.\n",
    "\n",
    "1) It first calculates an initial ambient profile by averaging all droplets in raw_adata  \n",
    "2) It tested whether droplets fit the multinomial distribution (the ambient profile as the prob parameter). The relatively high probabilities suggest cell-free droplets  \n",
    "3) It re-calculates the ambient profile using the identified cell-free droplets  \n",
    "4) It repeats step 2 and step 3 for `iterations`\n",
    "5) The final ambient profile is saved in `adata.uns`\n",
    "\n",
    "</div>"
   ]
  },
  {
   "cell_type": "code",
   "execution_count": 6,
   "id": "98a4b806-33f4-4876-bd36-784894e6e39f",
   "metadata": {
    "tags": [
     "nbsphinx-gallery",
     "nbsphinx-thumbnail"
    ]
   },
   "outputs": [
    {
     "name": "stdout",
     "output_type": "stream",
     "text": [
      "Estimating ambient profile for  ['Gene Expression'] ...\n",
      "iteration:  1\n",
      "iteration:  2\n",
      "iteration:  3\n"
     ]
    },
    {
     "data": {
      "image/png": "[encoded data removed]",
      "text/plain": [
       "<Figure size 432x432 with 2 Axes>"
      ]
     },
     "metadata": {
      "needs_background": "light"
     },
     "output_type": "display_data"
    }
   ],
   "source": [
    "from scar import setup_anndata\n",
    "\n",
    "setup_anndata(\n",
    "    adata = hgmm_20k,\n",
    "    raw_adata = hgmm_20k_raw,\n",
    "    prob = 0.995,\n",
    "    kneeplot = True\n",
    ")"
   ]
  },
  {
   "cell_type": "code",
   "execution_count": 7,
   "id": "72022008-eb23-44d9-92df-c0a81f8c3930",
   "metadata": {},
   "outputs": [
    {
     "data": {
      "text/html": [
       "<div>\n",
       "<style scoped>\n",
       "    .dataframe tbody tr th:only-of-type {\n",
       "        vertical-align: middle;\n",
       "    }\n",
       "\n",
       "    .dataframe tbody tr th {\n",
       "        vertical-align: top;\n",
       "    }\n",
       "\n",
       "    .dataframe thead th {\n",
       "        text-align: right;\n",
       "    }\n",
       "</style>\n",
       "<table border=\"1\" class=\"dataframe\">\n",
       "  <thead>\n",
       "    <tr style=\"text-align: right;\">\n",
       "      <th></th>\n",
       "      <th>ambient_profile_Gene Expression</th>\n",
       "    </tr>\n",
       "  </thead>\n",
       "  <tbody>\n",
       "    <tr>\n",
       "      <th>GRCh38_AL627309.5</th>\n",
       "      <td>0.000000</td>\n",
       "    </tr>\n",
       "    <tr>\n",
       "      <th>GRCh38_LINC01128</th>\n",
       "      <td>0.000127</td>\n",
       "    </tr>\n",
       "    <tr>\n",
       "      <th>GRCh38_LINC00115</th>\n",
       "      <td>0.000000</td>\n",
       "    </tr>\n",
       "    <tr>\n",
       "      <th>GRCh38_FAM41C</th>\n",
       "      <td>0.000010</td>\n",
       "    </tr>\n",
       "    <tr>\n",
       "      <th>GRCh38_AL645608.2</th>\n",
       "      <td>0.000010</td>\n",
       "    </tr>\n",
       "  </tbody>\n",
       "</table>\n",
       "</div>"
      ],
      "text/plain": [
       "                   ambient_profile_Gene Expression\n",
       "GRCh38_AL627309.5                         0.000000\n",
       "GRCh38_LINC01128                          0.000127\n",
       "GRCh38_LINC00115                          0.000000\n",
       "GRCh38_FAM41C                             0.000010\n",
       "GRCh38_AL645608.2                         0.000010"
      ]
     },
     "execution_count": 7,
     "metadata": {},
     "output_type": "execute_result"
    }
   ],
   "source": [
    "ambient_profile0 = hgmm_20k.uns[\"ambient_profile_Gene Expression\"]\n",
    "ambient_profile0.head()"
   ]
  },
  {
   "cell_type": "markdown",
   "id": "549520d6-84a3-4574-995c-daf26a375192",
   "metadata": {},
   "source": [
    "#### Option2, Calculate the ambient profile using a kneeplot"
   ]
  },
  {
   "cell_type": "markdown",
   "id": "05e0f805-16b7-4b95-84aa-0f344239188e",
   "metadata": {},
   "source": [
    "<div class=\"alert alert-info\">\n",
    "\n",
    "Steps:\n",
    "\n",
    "This option is based on total counts of droplets.\n",
    "\n",
    "1) It first plots a kneeplot\n",
    "2) It identifies subpopulations of droplets with arbitrary thresholds  \n",
    "3) It calculates the ambient profile from the subpopulation of 'cell-free droplets'\n",
    "\n",
    "</div>"
   ]
  },
  {
   "cell_type": "code",
   "execution_count": 8,
   "id": "c84c823c-77bc-4d63-90dd-7c98b2e03db2",
   "metadata": {},
   "outputs": [],
   "source": [
    "all_droplets = pd.DataFrame(hgmm_20k_raw.X.sum(axis=1), index = hgmm_20k_raw.obs_names, columns=['total_counts'])\n",
    "\n",
    "all_droplets['droplets'] = 'cell-free droplets'\n",
    "all_droplets['droplets'] = all_droplets['droplets'].mask(all_droplets['total_counts']>12, 'droplet II')\n",
    "all_droplets['droplets'] = all_droplets['droplets'].mask(all_droplets['total_counts']>40, 'droplet I')\n",
    "all_droplets['droplets'] = all_droplets['droplets'].mask(all_droplets.index.isin(hgmm_20k.obs_names), 'cells')\n",
    "all_droplets = all_droplets.sort_values(by='total_counts', ascending=False).reset_index().rename_axis(\"rank\").reset_index()\n",
    "all_droplets = all_droplets.loc[all_droplets['total_counts']>0]\n",
    "all_droplets = all_droplets.set_index('index').rename_axis('cells')"
   ]
  },
  {
   "cell_type": "code",
   "execution_count": 9,
   "id": "9ec1112a-8522-4df6-8601-76f54da599d4",
   "metadata": {},
   "outputs": [
    {
     "data": {
      "image/png": "[encoded data removed]",
      "text/plain": [
       "<Figure size 450x300 with 1 Axes>"
      ]
     },
     "metadata": {
      "needs_background": "light"
     },
     "output_type": "display_data"
    }
   ],
   "source": [
    "plt.figure(figsize=(3, 2), dpi=150)\n",
    "\n",
    "ax = sns.lineplot(data = all_droplets,\n",
    "                  x='rank',\n",
    "                  y='total_counts',\n",
    "                  hue='droplets',\n",
    "                  hue_order=['cells', 'droplet I', 'droplet II', 'cell-free droplets'],\n",
    "                  palette=sns.color_palette()[-4:],\n",
    "                  markers=False,\n",
    "                  lw=2,\n",
    "                  ci=None)\n",
    "\n",
    "ax.set_xscale('log')\n",
    "ax.set_yscale('log')\n",
    "ax.set_xlabel('sorted droplets');\n",
    "ax.legend(loc='lower left', ncol=1, title=None, frameon=False)\n",
    "ax.set_title(f'kneeplot: 20k_hgmm')\n",
    "\n",
    "sns.set_palette(\"muted\")\n",
    "sns.set_style(\"ticks\")\n",
    "sns.despine(offset=10, trim=False);"
   ]
  },
  {
   "cell_type": "code",
   "execution_count": 10,
   "id": "6a5bfa33-a216-4939-8800-94f44909b319",
   "metadata": {},
   "outputs": [
    {
     "data": {
      "text/html": [
       "<div>\n",
       "<style scoped>\n",
       "    .dataframe tbody tr th:only-of-type {\n",
       "        vertical-align: middle;\n",
       "    }\n",
       "\n",
       "    .dataframe tbody tr th {\n",
       "        vertical-align: top;\n",
       "    }\n",
       "\n",
       "    .dataframe thead th {\n",
       "        text-align: right;\n",
       "    }\n",
       "</style>\n",
       "<table border=\"1\" class=\"dataframe\">\n",
       "  <thead>\n",
       "    <tr style=\"text-align: right;\">\n",
       "      <th></th>\n",
       "      <th>ambient profile</th>\n",
       "    </tr>\n",
       "  </thead>\n",
       "  <tbody>\n",
       "    <tr>\n",
       "      <th>GRCh38_AL627309.5</th>\n",
       "      <td>0.000000</td>\n",
       "    </tr>\n",
       "    <tr>\n",
       "      <th>GRCh38_LINC01128</th>\n",
       "      <td>0.000119</td>\n",
       "    </tr>\n",
       "    <tr>\n",
       "      <th>GRCh38_LINC00115</th>\n",
       "      <td>0.000000</td>\n",
       "    </tr>\n",
       "    <tr>\n",
       "      <th>GRCh38_FAM41C</th>\n",
       "      <td>0.000028</td>\n",
       "    </tr>\n",
       "    <tr>\n",
       "      <th>GRCh38_AL645608.2</th>\n",
       "      <td>0.000007</td>\n",
       "    </tr>\n",
       "  </tbody>\n",
       "</table>\n",
       "</div>"
      ],
      "text/plain": [
       "                   ambient profile\n",
       "GRCh38_AL627309.5         0.000000\n",
       "GRCh38_LINC01128          0.000119\n",
       "GRCh38_LINC00115          0.000000\n",
       "GRCh38_FAM41C             0.000028\n",
       "GRCh38_AL645608.2         0.000007"
      ]
     },
     "execution_count": 10,
     "metadata": {},
     "output_type": "execute_result"
    }
   ],
   "source": [
    "cell_free = hgmm_20k_raw[hgmm_20k_raw.obs_names.isin(all_droplets[all_droplets['droplets']=='cell-free droplets'].index)]\n",
    "\n",
    "cell_free = cell_free[:, hgmm_20k.var_names]\n",
    "\n",
    "# average and normalize the transcript in cell-free droplets.\n",
    "ambient_profile1 = pd.DataFrame((cell_free.X.sum(axis=0)/cell_free.X.sum()).A1, index = hgmm_20k.var_names, columns = ['ambient profile'])\n",
    "\n",
    "ambient_profile1.head()"
   ]
  },
  {
   "cell_type": "markdown",
   "id": "4ab23e5f-a4c4-449c-a137-42063483fcf6",
   "metadata": {},
   "source": [
    "Check that these two approaches generate consistent results"
   ]
  },
  {
   "cell_type": "code",
   "execution_count": 11,
   "id": "86a89345-7b17-4c4b-9da9-96d68475043c",
   "metadata": {},
   "outputs": [
    {
     "data": {
      "text/plain": [
       "0.9239448655616661"
      ]
     },
     "execution_count": 11,
     "metadata": {},
     "output_type": "execute_result"
    }
   ],
   "source": [
    "from sklearn.metrics import r2_score\n",
    "\n",
    "r2_score(ambient_profile0, ambient_profile1)"
   ]
  },
  {
   "cell_type": "markdown",
   "id": "45d9f40e-a631-4b61-ae7f-fc1caffacb7f",
   "metadata": {},
   "source": [
    "## The ambient profile of feature barcodes\n",
    "\n",
    "### Download data\n",
    "\n",
    "The raw and filtered count matrices can be downloaded from 10x Dataset."
   ]
  },
  {
   "cell_type": "markdown",
   "id": "38fd9bf6-d3d2-4095-bd63-862bd417e4aa",
   "metadata": {},
   "source": [
    "#### The raw data\n",
    "\n",
    "cellranger output: raw_feature_bc_matrix"
   ]
  },
  {
   "cell_type": "code",
   "execution_count": 12,
   "id": "11f8fb52-f914-45aa-b46c-95dffc5a95e7",
   "metadata": {},
   "outputs": [
    {
     "data": {
      "application/vnd.jupyter.widget-view+json": {
       "model_id": "cab9fd5cab1e473e8c5ec56b9706557b",
       "version_major": 2,
       "version_minor": 0
      },
      "text/plain": [
       "  0%|          | 0.00/6.19M [00:00<?, ?B/s]"
      ]
     },
     "metadata": {},
     "output_type": "display_data"
    }
   ],
   "source": [
    "PBMC_raw = sc.read_10x_h5(filename='sc5p_v2_hs_PBMC_10k_f_raw_feature_bc_matrix.h5ad',\n",
    "                          gex_only=False,\n",
    "                          backup_url='https://cf.10xgenomics.com/samples/cell-vdj/5.0.0/sc5p_v2_hs_PBMC_10k/sc5p_v2_hs_PBMC_10k_f_raw_feature_bc_matrix.h5');\n",
    "PBMC_raw.var_names_make_unique();"
   ]
  },
  {
   "cell_type": "markdown",
   "id": "fbec616a-b18d-4125-9442-e4f05a8b59bd",
   "metadata": {},
   "source": [
    "#### The filtered data\n",
    "\n",
    "cellranger output: filtered_feature_bc_matrix"
   ]
  },
  {
   "cell_type": "code",
   "execution_count": 13,
   "id": "f48b2c34-acd1-43a4-a4b2-747478dd467d",
   "metadata": {},
   "outputs": [
    {
     "data": {
      "application/vnd.jupyter.widget-view+json": {
       "model_id": "e5832fead1dc4236a4411f49dbf35b5b",
       "version_major": 2,
       "version_minor": 0
      },
      "text/plain": [
       "  0%|          | 0.00/351k [00:00<?, ?B/s]"
      ]
     },
     "metadata": {},
     "output_type": "display_data"
    }
   ],
   "source": [
    "PBMC_filtered = sc.read_10x_h5(filename='sc5p_v2_hs_PBMC_10k_f_filtered_feature_bc_matrix.h5ad',\n",
    "                          gex_only=False,\n",
    "                          backup_url='https://cf.10xgenomics.com/samples/cell-vdj/5.0.0/sc5p_v2_hs_PBMC_10k/sc5p_v2_hs_PBMC_10k_f_filtered_feature_bc_matrix.h5');\n",
    "PBMC_filtered.var_names_make_unique();"
   ]
  },
  {
   "cell_type": "code",
   "execution_count": 14,
   "id": "f0f7eef3-3474-4d28-9741-2738bb8b3d1d",
   "metadata": {},
   "outputs": [
    {
     "data": {
      "text/plain": [
       "AnnData object with n_obs × n_vars = 12773 × 19\n",
       "    var: 'gene_ids', 'feature_types', 'genome'"
      ]
     },
     "execution_count": 14,
     "metadata": {},
     "output_type": "execute_result"
    }
   ],
   "source": [
    "PBMC_filtered"
   ]
  },
  {
   "cell_type": "code",
   "execution_count": 15,
   "id": "d2a4913f-090f-4521-9a4a-1f469d998520",
   "metadata": {},
   "outputs": [
    {
     "data": {
      "text/plain": [
       "AnnData object with n_obs × n_vars = 737280 × 19\n",
       "    var: 'gene_ids', 'feature_types', 'genome'"
      ]
     },
     "execution_count": 15,
     "metadata": {},
     "output_type": "execute_result"
    }
   ],
   "source": [
    "PBMC_raw"
   ]
  },
  {
   "cell_type": "markdown",
   "id": "8216df5f-010c-41d0-8661-b62b58dfa06f",
   "metadata": {},
   "source": [
    "### Estimate the ambient profile"
   ]
  },
  {
   "cell_type": "code",
   "execution_count": 20,
   "id": "56380669-c32f-4a5d-9303-8fd568acf149",
   "metadata": {},
   "outputs": [
    {
     "name": "stdout",
     "output_type": "stream",
     "text": [
      "Estimating ambient profile for  ['Antibody Capture'] ...\n",
      "iteration:  1\n",
      "iteration:  2\n",
      "iteration:  3\n"
     ]
    },
    {
     "data": {
      "image/png": "[encoded data removed]",
      "text/plain": [
       "<Figure size 432x432 with 2 Axes>"
      ]
     },
     "metadata": {},
     "output_type": "display_data"
    }
   ],
   "source": [
    "from scar import setup_anndata\n",
    "\n",
    "setup_anndata(\n",
    "    adata = PBMC_filtered,\n",
    "    raw_adata = PBMC_raw,\n",
    "    prob = 0.7, # try a lower prob value when error ocurs\n",
    "    min_raw_counts=2,\n",
    "    kneeplot = True\n",
    ")"
   ]
  },
  {
   "cell_type": "code",
   "execution_count": 21,
   "id": "08ac2b84-dffe-496f-a08f-869e77ef76d4",
   "metadata": {},
   "outputs": [
    {
     "data": {
      "text/html": [
       "<div>\n",
       "<style scoped>\n",
       "    .dataframe tbody tr th:only-of-type {\n",
       "        vertical-align: middle;\n",
       "    }\n",
       "\n",
       "    .dataframe tbody tr th {\n",
       "        vertical-align: top;\n",
       "    }\n",
       "\n",
       "    .dataframe thead th {\n",
       "        text-align: right;\n",
       "    }\n",
       "</style>\n",
       "<table border=\"1\" class=\"dataframe\">\n",
       "  <thead>\n",
       "    <tr style=\"text-align: right;\">\n",
       "      <th></th>\n",
       "      <th>ambient_profile_Antibody Capture</th>\n",
       "    </tr>\n",
       "  </thead>\n",
       "  <tbody>\n",
       "    <tr>\n",
       "      <th>CD3_TotalC</th>\n",
       "      <td>0.074758</td>\n",
       "    </tr>\n",
       "    <tr>\n",
       "      <th>CD19_TotalC</th>\n",
       "      <td>0.029752</td>\n",
       "    </tr>\n",
       "    <tr>\n",
       "      <th>CD45RA_TotalC</th>\n",
       "      <td>0.140524</td>\n",
       "    </tr>\n",
       "    <tr>\n",
       "      <th>CD4_TotalC</th>\n",
       "      <td>0.126031</td>\n",
       "    </tr>\n",
       "    <tr>\n",
       "      <th>CD8a_TotalC</th>\n",
       "      <td>0.066558</td>\n",
       "    </tr>\n",
       "    <tr>\n",
       "      <th>CD14_TotalC</th>\n",
       "      <td>0.037047</td>\n",
       "    </tr>\n",
       "    <tr>\n",
       "      <th>CD16_TotalC</th>\n",
       "      <td>0.007975</td>\n",
       "    </tr>\n",
       "    <tr>\n",
       "      <th>CD56_TotalC</th>\n",
       "      <td>0.013442</td>\n",
       "    </tr>\n",
       "    <tr>\n",
       "      <th>CD25_TotalC</th>\n",
       "      <td>0.089229</td>\n",
       "    </tr>\n",
       "    <tr>\n",
       "      <th>CD45RO_TotalC</th>\n",
       "      <td>0.026414</td>\n",
       "    </tr>\n",
       "    <tr>\n",
       "      <th>PD-1_TotalC</th>\n",
       "      <td>0.025025</td>\n",
       "    </tr>\n",
       "    <tr>\n",
       "      <th>TIGIT_TotalC</th>\n",
       "      <td>0.011173</td>\n",
       "    </tr>\n",
       "    <tr>\n",
       "      <th>IgG1_TotalC</th>\n",
       "      <td>0.041307</td>\n",
       "    </tr>\n",
       "    <tr>\n",
       "      <th>IgG2a_TotalC</th>\n",
       "      <td>0.057658</td>\n",
       "    </tr>\n",
       "    <tr>\n",
       "      <th>IgG2b_TotalC</th>\n",
       "      <td>0.000000</td>\n",
       "    </tr>\n",
       "    <tr>\n",
       "      <th>CD127_TotalC</th>\n",
       "      <td>0.012793</td>\n",
       "    </tr>\n",
       "    <tr>\n",
       "      <th>CD15_TotalC</th>\n",
       "      <td>0.110497</td>\n",
       "    </tr>\n",
       "    <tr>\n",
       "      <th>CD197_TotalC</th>\n",
       "      <td>0.030448</td>\n",
       "    </tr>\n",
       "    <tr>\n",
       "      <th>HLA-DR_TotalC</th>\n",
       "      <td>0.099369</td>\n",
       "    </tr>\n",
       "  </tbody>\n",
       "</table>\n",
       "</div>"
      ],
      "text/plain": [
       "               ambient_profile_Antibody Capture\n",
       "CD3_TotalC                             0.074758\n",
       "CD19_TotalC                            0.029752\n",
       "CD45RA_TotalC                          0.140524\n",
       "CD4_TotalC                             0.126031\n",
       "CD8a_TotalC                            0.066558\n",
       "CD14_TotalC                            0.037047\n",
       "CD16_TotalC                            0.007975\n",
       "CD56_TotalC                            0.013442\n",
       "CD25_TotalC                            0.089229\n",
       "CD45RO_TotalC                          0.026414\n",
       "PD-1_TotalC                            0.025025\n",
       "TIGIT_TotalC                           0.011173\n",
       "IgG1_TotalC                            0.041307\n",
       "IgG2a_TotalC                           0.057658\n",
       "IgG2b_TotalC                           0.000000\n",
       "CD127_TotalC                           0.012793\n",
       "CD15_TotalC                            0.110497\n",
       "CD197_TotalC                           0.030448\n",
       "HLA-DR_TotalC                          0.099369"
      ]
     },
     "execution_count": 21,
     "metadata": {},
     "output_type": "execute_result"
    }
   ],
   "source": [
    "PBMC_filtered.uns[\"ambient_profile_Antibody Capture\"]"
   ]
  }
 ],
 "metadata": {
  "kernelspec": {
   "display_name": "scar",
   "language": "python",
   "name": "scar"
  },
  "language_info": {
   "codemirror_mode": {
    "name": "ipython",
    "version": 3
   },
   "file_extension": ".py",
   "mimetype": "text/x-python",
   "name": "python",
   "nbconvert_exporter": "python",
   "pygments_lexer": "ipython3",
   "version": "3.10.4"
  }
 },
 "nbformat": 4,
 "nbformat_minor": 5
}
