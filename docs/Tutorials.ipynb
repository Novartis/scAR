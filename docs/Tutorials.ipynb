{
 "cells": [
  {
   "cell_type": "markdown",
   "metadata": {},
   "source": [
    "# Tutorials\n",
    "\n",
    "There are two ways to run `scar`. For Python users, we recommend the Python API; for R users, we recommend the command line tool."
   ]
  },
  {
   "cell_type": "markdown",
   "metadata": {
    "tags": [
     "caption"
    ]
   },
   "source": [
    "## Run scar with API"
   ]
  },
  {
   "cell_type": "markdown",
   "metadata": {
    "tags": [
     "nbsphinx-gallery"
    ]
   },
   "source": [
    "* [sgRNA assignment](scAR_tutorial_sgRNA_assignment.ipynb)\n",
    "* [Assignment of identity-barcodes](scAR_tutorial_identity_barcode.ipynb)\n",
    "* [Denoising ADT for CITE-seq](scAR_tutorial_denoising_CITEseq.ipynb)\n",
    "* [Denoising mRNA](scAR_tutorial_mRNA_denoising.ipynb)"
   ]
  },
  {
   "cell_type": "markdown",
   "metadata": {
    "tags": []
   },
   "source": [
    "## Run scar with command line tool\n",
    "\n",
    "We can also run `scar` by:\n",
    "\n",
    "    scar raw_count_matrix.pickle -ft feature_type -o output\n",
    "\n",
    "`raw_count_matrix.pickle`, a file of raw count matrix (MxN) with cells in rows and features in columns  \n",
    "\n",
    " | cells | gene_0  | gene_1    | ...   | gene_18000   |\n",
    "|---:|:-------------|:-----------|:------|:------|\n",
    "| *cell_0* | 12  | 3       | ...   | 82     |\n",
    "| *cell_1* | 13  | 0    | ...   | 78     |\n",
    "| *cell_2* | 35  | 30       | ...   | 170     |\n",
    "| ... | ...  | ...    | ...   | ...     |\n",
    "| *cell_8000* | 12  | 3       | ...   | 82     |\n",
    "\n",
    "`feature_type`, a string, either 'mRNA' or 'sgRNA' or 'ADT' or 'tag'.\n",
    "\n",
    "\n",
    "<div class=\"alert alert-info\">\n",
    "\n",
    "Note\n",
    "\n",
    "An extra argument ``ambient_profile`` is recommended to achieve better results.\n",
    "\n",
    "``ambient_profile`` represents the probability of occurrence of each ambient transcript and can be empirically estimated by averging cell-free droplets.\n",
    "</div>\n",
    "\n",
    "\n",
    "Then, we can run `scAR` by:\n",
    "    \n",
    "     scar raw_count_matrix.pickle -ft feature_type -ap ambient_profile.pickle -o output\n",
    "    \n",
    "\n",
    "    \n",
    "`ambient_profile.pickle`, a file of ambient profile (Nx1) in cell-free droplets  \n",
    "\n",
    "| genes | ambient profile  |\n",
    "|---:|:-------------|\n",
    "| **gene_0** | .0003  |\n",
    "| **gene_1** | .00004  |\n",
    "| **gene_2** |  .00003 |\n",
    "| ... | ...  |\n",
    "| **gene_18000** | .0012 |\n",
    "\n",
    "<div class=\"alert alert-warning\">\n",
    "\n",
    "Warning\n",
    "\n",
    "``ambient_profile`` should sum to one. The gene order should be consistent with `raw_count_matrix`.\n",
    "</div>\n"
   ]
  },
  {
   "cell_type": "markdown",
   "metadata": {},
   "source": [
    "For other optional arguments and parameters, run:\n",
    "\n",
    "    scar --help\n",
    "\n",
    "The output folder contains four (or five) files:   \n",
    "\n",
    "\toutput\n",
    "\t├── denoised_counts.pickle\n",
    "\t├── expected_noise_ratio.pickle\n",
    "\t├── BayesFactor.pickle\n",
    "\t├── expected_native_freq.pickle \n",
    "\t└── assignment.pickle\n",
    "    \n",
    "    \n",
    "`denoised_counts.pickle`, denoised count matrix.  \n",
    "`expected_noise_ratio.pickle`, estimated noise ratio.  \n",
    "`BayesFactor.pickle`, bayesian factor of ambient contamination.  \n",
    "`expected_native_freq.pickle`, estimated native frequencies.  \n",
    "`assignment.pickle`, feature assignment, e.g., sgRNA, tag, and etc..\n",
    "\n",
    "<div class=\"alert alert-info\">\n",
    "\n",
    "Note\n",
    "\n",
    "Currently only `.pickle` format is supported\n",
    "</div>\n"
   ]
  }
 ],
 "metadata": {
  "kernelspec": {
   "display_name": "cropseq",
   "language": "python",
   "name": "cropseq"
  },
  "language_info": {
   "codemirror_mode": {
    "name": "ipython",
    "version": 3
   },
   "file_extension": ".py",
   "mimetype": "text/x-python",
   "name": "python",
   "nbconvert_exporter": "python",
   "pygments_lexer": "ipython3",
   "version": "3.9.12"
  }
 },
 "nbformat": 4,
 "nbformat_minor": 4
}
